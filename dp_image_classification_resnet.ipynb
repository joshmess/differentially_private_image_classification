{
  "cells": [
    {
      "cell_type": "markdown",
      "id": "138caf80-c74e-4d44-8232-fbb70ca31b50",
      "metadata": {
        "id": "138caf80-c74e-4d44-8232-fbb70ca31b50"
      },
      "source": [
        "# Differentially Private Image Classification With ResNet\n",
        "\n",
        "Author: [Josh Messitte](https://joshmessitte.dev)\n",
        "\n",
        "Date Created: 2/12/2022\n",
        "\n",
        "Description: Training a ResNet to classify images from the CIFAR-10 dataset in an epsilon-differentially private manner using PyTorch and Opacus. \n",
        "\n",
        "⨁ **UGA CSCI 8960** ⨁"
      ]
    },
    {
      "cell_type": "markdown",
      "id": "cc69293d-4fc9-4098-ac1e-7067bdc7f014",
      "metadata": {
        "id": "cc69293d-4fc9-4098-ac1e-7067bdc7f014"
      },
      "source": [
        "## Project Overview\n",
        "This project will:\n",
        "\n",
        "\n",
        "*   Identify & tune important parameters for ϵ-DP training.\n",
        "*   Use Opacus to identify layers incompatible with ϵ-DP.\n",
        "*   Train a ϵ-DP ResNet for CIFAR-10 image classification using RMSprop.\n",
        "*   Maximize accuracy while maintaining privacy.\n",
        "\n"
      ]
    },
    {
      "cell_type": "markdown",
      "source": [
        "Ignore Warnings for Clarity"
      ],
      "metadata": {
        "id": "9seQ-5RasU87"
      },
      "id": "9seQ-5RasU87"
    },
    {
      "cell_type": "code",
      "execution_count": 1,
      "id": "b5c9157f-906a-47c2-bf03-e399cdffe630",
      "metadata": {
        "execution": {
          "iopub.execute_input": "2022-02-16T16:54:35.688471Z",
          "iopub.status.busy": "2022-02-16T16:54:35.688128Z",
          "iopub.status.idle": "2022-02-16T16:54:35.694863Z",
          "shell.execute_reply": "2022-02-16T16:54:35.694275Z",
          "shell.execute_reply.started": "2022-02-16T16:54:35.688402Z"
        },
        "tags": [],
        "id": "b5c9157f-906a-47c2-bf03-e399cdffe630"
      },
      "outputs": [],
      "source": [
        "import warnings\n",
        "warnings.simplefilter(\"ignore\")"
      ]
    },
    {
      "cell_type": "markdown",
      "id": "b3011eb0-f596-4efb-aac9-c6fa813cff5a",
      "metadata": {
        "id": "b3011eb0-f596-4efb-aac9-c6fa813cff5a"
      },
      "source": [
        "## Tuning Hyper-parameters\n",
        "\n",
        "The normal hyper-parameters for the model we will use are:\n",
        "\n",
        "*   Step Size: AKA learning rate. Amount the weights are updated during model training.\n",
        "\n"
      ]
    },
    {
      "cell_type": "code",
      "execution_count": 2,
      "id": "b8ce8dba-acfc-47e0-a27a-ef022bb1e2ab",
      "metadata": {
        "execution": {
          "iopub.execute_input": "2022-02-16T16:54:38.764509Z",
          "iopub.status.busy": "2022-02-16T16:54:38.764093Z",
          "iopub.status.idle": "2022-02-16T16:54:38.768591Z",
          "shell.execute_reply": "2022-02-16T16:54:38.767816Z",
          "shell.execute_reply.started": "2022-02-16T16:54:38.764450Z"
        },
        "tags": [],
        "id": "b8ce8dba-acfc-47e0-a27a-ef022bb1e2ab"
      },
      "outputs": [],
      "source": [
        "STEP_SIZE = 1e-3\n",
        "\n",
        "# Also need to specify number of epochs and batch size\n",
        "EPOCHS = 20\n",
        "BATCH_SIZE = 512\n",
        "MAX_PHYSICAL_BATCH_SIZE = 128"
      ]
    },
    {
      "cell_type": "markdown",
      "id": "e228c9c6-fa1c-485e-8345-3b0804661e4c",
      "metadata": {
        "id": "e228c9c6-fa1c-485e-8345-3b0804661e4c"
      },
      "source": [
        "And the following privacy-specific hyper-parameters:\n",
        "*   Clipping Threshold: The maximum L2 norm (sum of squared values) to which per sample gradients are clipped.\n",
        "*   Epsilon: The target (maximum) epsilon to use when training and testing the model.\n",
        "*   Delta: The targer δ for our ϵ-DP guarantee. This is the probability of any information accidentally being leaked. Set to 1e-5."
      ]
    },
    {
      "cell_type": "code",
      "execution_count": 3,
      "id": "1d12c1b4-a51a-4e94-994e-64b384d80fd7",
      "metadata": {
        "execution": {
          "iopub.execute_input": "2022-02-16T16:54:41.440475Z",
          "iopub.status.busy": "2022-02-16T16:54:41.440170Z",
          "iopub.status.idle": "2022-02-16T16:54:41.443784Z",
          "shell.execute_reply": "2022-02-16T16:54:41.443109Z",
          "shell.execute_reply.started": "2022-02-16T16:54:41.440450Z"
        },
        "tags": [],
        "id": "1d12c1b4-a51a-4e94-994e-64b384d80fd7"
      },
      "outputs": [],
      "source": [
        "CLIPPING_THRESHOLD = 1.2\n",
        "EPSILON = 10\n",
        "DELTA = 1e-5"
      ]
    },
    {
      "cell_type": "markdown",
      "id": "cff08d2e-0e14-499e-9937-eed69617905b",
      "metadata": {
        "id": "cff08d2e-0e14-499e-9937-eed69617905b"
      },
      "source": [
        "## Loading the Data\n",
        "Here we are loading the CIFAR-10 dataset. No data augmentation is utilized as some prior works suggest that models trained using data augmentation may underestimate the resulting risk of a privacy attack (Yu,2021)."
      ]
    },
    {
      "cell_type": "code",
      "execution_count": 4,
      "id": "305e7a0f-c0ce-4f10-bfd9-b9712bd8aacb",
      "metadata": {
        "execution": {
          "iopub.execute_input": "2022-02-16T16:54:44.340999Z",
          "iopub.status.busy": "2022-02-16T16:54:44.340702Z",
          "iopub.status.idle": "2022-02-16T16:54:45.136821Z",
          "shell.execute_reply": "2022-02-16T16:54:45.136269Z",
          "shell.execute_reply.started": "2022-02-16T16:54:44.340974Z"
        },
        "tags": [],
        "id": "305e7a0f-c0ce-4f10-bfd9-b9712bd8aacb"
      },
      "outputs": [],
      "source": [
        "import torch\n",
        "import torchvision\n",
        "import torchvision.transforms as transforms\n",
        "\n",
        "# These values are specific to the CIFAR-10 dataset\n",
        "CIFAR10_MEAN = (0.4914, 0.4822, 0.4465)\n",
        "CIFAR10_STD_DEV = (0.2023, 0.1994, 0.2010)\n",
        "\n",
        "transform = transforms.Compose([\n",
        "    transforms.ToTensor(),\n",
        "    transforms.Normalize(CIFAR10_MEAN, CIFAR10_STD_DEV),\n",
        "])"
      ]
    },
    {
      "cell_type": "markdown",
      "id": "49ce0eb9-ac1a-435e-81e6-7c73f7eb84b2",
      "metadata": {
        "id": "49ce0eb9-ac1a-435e-81e6-7c73f7eb84b2"
      },
      "source": [
        "Then we can load the images and convert the PILImages to data of type Tensor."
      ]
    },
    {
      "cell_type": "code",
      "execution_count": 5,
      "id": "7e6b568c-71f8-4d8a-abfd-09d71744ec67",
      "metadata": {
        "execution": {
          "iopub.execute_input": "2022-02-16T16:54:47.210779Z",
          "iopub.status.busy": "2022-02-16T16:54:47.210480Z",
          "iopub.status.idle": "2022-02-16T16:54:48.853094Z",
          "shell.execute_reply": "2022-02-16T16:54:48.852521Z",
          "shell.execute_reply.started": "2022-02-16T16:54:47.210754Z"
        },
        "tags": [],
        "colab": {
          "base_uri": "https://localhost:8080/",
          "height": 104,
          "referenced_widgets": [
            "c29205924d5e456d8a126cecce9d4f0d",
            "af6880a15ac74171a0959efd036a6289",
            "258df64afbcb4073a2c4904e953d9912",
            "148290a491c14d68a3782bd1db07b017",
            "9e71cd0464c94b929feedd30b485634b",
            "c88ef084850543ff9025e1e3d1d97d59",
            "175ee085cbdc4facb6a72cec11404e64",
            "7c4df80277624dfba1ea2a21f57b7534",
            "e9e11f9558cb4e6f86b87c6ce4eed50d",
            "2677b4ebec2f47b585e3ec0cb23c54a3",
            "54bd11e4d37b4f7c97c382e01f499655"
          ]
        },
        "id": "7e6b568c-71f8-4d8a-abfd-09d71744ec67",
        "outputId": "2a787003-802d-4922-e4ed-a2465a48cf44"
      },
      "outputs": [
        {
          "output_type": "stream",
          "name": "stdout",
          "text": [
            "Downloading https://www.cs.toronto.edu/~kriz/cifar-10-python.tar.gz to ../cifar10/cifar-10-python.tar.gz\n"
          ]
        },
        {
          "output_type": "display_data",
          "data": {
            "application/vnd.jupyter.widget-view+json": {
              "model_id": "c29205924d5e456d8a126cecce9d4f0d",
              "version_minor": 0,
              "version_major": 2
            },
            "text/plain": [
              "  0%|          | 0/170498071 [00:00<?, ?it/s]"
            ]
          },
          "metadata": {}
        },
        {
          "output_type": "stream",
          "name": "stdout",
          "text": [
            "Extracting ../cifar10/cifar-10-python.tar.gz to ../cifar10\n",
            "Files already downloaded and verified\n"
          ]
        }
      ],
      "source": [
        "from torchvision.datasets import CIFAR10\n",
        "\n",
        "DATA_ROOT = '../cifar10'\n",
        "\n",
        "train_dataset = CIFAR10(\n",
        "    root=DATA_ROOT, train=True, download=True, transform=transform)\n",
        "\n",
        "train_loader = torch.utils.data.DataLoader(\n",
        "    train_dataset,\n",
        "    batch_size=BATCH_SIZE,\n",
        ")\n",
        "\n",
        "test_dataset = CIFAR10(\n",
        "    root=DATA_ROOT, train=False, download=True, transform=transform)\n",
        "\n",
        "test_loader = torch.utils.data.DataLoader(\n",
        "    test_dataset,\n",
        "    batch_size=BATCH_SIZE,\n",
        "    shuffle=False,\n",
        ")"
      ]
    },
    {
      "cell_type": "markdown",
      "id": "18098296-afe2-489b-8739-555fd53f1007",
      "metadata": {
        "id": "18098296-afe2-489b-8739-555fd53f1007"
      },
      "source": [
        "## Model\n",
        "\n",
        "Now we will create our ResNet model using the torchvision package. We will be using a ResNet18 which specifies 18 layers in the network."
      ]
    },
    {
      "cell_type": "code",
      "execution_count": 6,
      "id": "312d4672-a473-4b22-a46b-ef79e6d801dd",
      "metadata": {
        "execution": {
          "iopub.execute_input": "2022-02-16T16:54:50.797745Z",
          "iopub.status.busy": "2022-02-16T16:54:50.797453Z",
          "iopub.status.idle": "2022-02-16T16:54:50.967302Z",
          "shell.execute_reply": "2022-02-16T16:54:50.966741Z",
          "shell.execute_reply.started": "2022-02-16T16:54:50.797721Z"
        },
        "tags": [],
        "id": "312d4672-a473-4b22-a46b-ef79e6d801dd"
      },
      "outputs": [],
      "source": [
        "from torchvision import models\n",
        "\n",
        "model = models.resnet18(num_classes=10)"
      ]
    },
    {
      "cell_type": "markdown",
      "id": "9fad81ca-d44c-4cd8-a506-7d0d2480d7f6",
      "metadata": {
        "id": "9fad81ca-d44c-4cd8-a506-7d0d2480d7f6"
      },
      "source": [
        "## Identifying Incompatible Layers\n",
        "\n",
        "Some layers are not compatible with Opacus due to privacy implications. For example, we discussed in class how BatchNorm layers cannot be used because ϵ-DP relies upon using only neighboring datasets."
      ]
    },
    {
      "cell_type": "code",
      "execution_count": 7,
      "id": "ae0eb418-6ed3-4b6c-89e5-71f6a5997a06",
      "metadata": {
        "execution": {
          "iopub.execute_input": "2022-02-16T16:54:54.109780Z",
          "iopub.status.busy": "2022-02-16T16:54:54.109492Z",
          "iopub.status.idle": "2022-02-16T16:54:56.544136Z",
          "shell.execute_reply": "2022-02-16T16:54:56.543382Z",
          "shell.execute_reply.started": "2022-02-16T16:54:54.109755Z"
        },
        "tags": [],
        "colab": {
          "base_uri": "https://localhost:8080/"
        },
        "id": "ae0eb418-6ed3-4b6c-89e5-71f6a5997a06",
        "outputId": "da3f26c7-cd36-4bf6-92ca-e9a31c313032"
      },
      "outputs": [
        {
          "output_type": "stream",
          "name": "stdout",
          "text": [
            "Collecting opacus\n",
            "  Downloading opacus-1.0.2-py3-none-any.whl (145 kB)\n",
            "\u001b[?25l\r\u001b[K     |██▎                             | 10 kB 23.3 MB/s eta 0:00:01\r\u001b[K     |████▌                           | 20 kB 29.2 MB/s eta 0:00:01\r\u001b[K     |██████▊                         | 30 kB 25.2 MB/s eta 0:00:01\r\u001b[K     |█████████                       | 40 kB 15.0 MB/s eta 0:00:01\r\u001b[K     |███████████▎                    | 51 kB 9.4 MB/s eta 0:00:01\r\u001b[K     |█████████████▌                  | 61 kB 10.4 MB/s eta 0:00:01\r\u001b[K     |███████████████▉                | 71 kB 8.1 MB/s eta 0:00:01\r\u001b[K     |██████████████████              | 81 kB 8.9 MB/s eta 0:00:01\r\u001b[K     |████████████████████▎           | 92 kB 9.5 MB/s eta 0:00:01\r\u001b[K     |██████████████████████▋         | 102 kB 8.3 MB/s eta 0:00:01\r\u001b[K     |████████████████████████▉       | 112 kB 8.3 MB/s eta 0:00:01\r\u001b[K     |███████████████████████████     | 122 kB 8.3 MB/s eta 0:00:01\r\u001b[K     |█████████████████████████████▍  | 133 kB 8.3 MB/s eta 0:00:01\r\u001b[K     |███████████████████████████████▋| 143 kB 8.3 MB/s eta 0:00:01\r\u001b[K     |████████████████████████████████| 145 kB 8.3 MB/s \n",
            "\u001b[?25hRequirement already satisfied: scipy>=1.2 in /usr/local/lib/python3.7/dist-packages (from opacus) (1.4.1)\n",
            "Requirement already satisfied: numpy>=1.15 in /usr/local/lib/python3.7/dist-packages (from opacus) (1.21.5)\n",
            "Requirement already satisfied: torch>=1.8 in /usr/local/lib/python3.7/dist-packages (from opacus) (1.10.0+cu111)\n",
            "Requirement already satisfied: typing-extensions in /usr/local/lib/python3.7/dist-packages (from torch>=1.8->opacus) (3.10.0.2)\n",
            "Installing collected packages: opacus\n",
            "Successfully installed opacus-1.0.2\n"
          ]
        },
        {
          "output_type": "execute_result",
          "data": {
            "text/plain": [
              "[opacus.validators.errors.ShouldReplaceModuleError(\"BatchNorm cannot support training with differential privacy. The reason for it is that BatchNorm makes each sample's normalized value depend on its peers in a batch, ie the same sample x will get normalized to a different value depending on who else is on its batch. Privacy-wise, this means that we would have to put a privacy mechanism there too. While it can in principle be done, there are now multiple normalization layers that do not have this issue: LayerNorm, InstanceNorm and their generalization GroupNorm are all privacy-safe since they don't have this property.We offer utilities to automatically replace BatchNorms to GroupNorms and we will release pretrained models to help transition, such as GN-ResNet ie a ResNet using GroupNorm, pretrained on ImageNet\"),\n",
              " opacus.validators.errors.ShouldReplaceModuleError(\"BatchNorm cannot support training with differential privacy. The reason for it is that BatchNorm makes each sample's normalized value depend on its peers in a batch, ie the same sample x will get normalized to a different value depending on who else is on its batch. Privacy-wise, this means that we would have to put a privacy mechanism there too. While it can in principle be done, there are now multiple normalization layers that do not have this issue: LayerNorm, InstanceNorm and their generalization GroupNorm are all privacy-safe since they don't have this property.We offer utilities to automatically replace BatchNorms to GroupNorms and we will release pretrained models to help transition, such as GN-ResNet ie a ResNet using GroupNorm, pretrained on ImageNet\"),\n",
              " opacus.validators.errors.ShouldReplaceModuleError(\"BatchNorm cannot support training with differential privacy. The reason for it is that BatchNorm makes each sample's normalized value depend on its peers in a batch, ie the same sample x will get normalized to a different value depending on who else is on its batch. Privacy-wise, this means that we would have to put a privacy mechanism there too. While it can in principle be done, there are now multiple normalization layers that do not have this issue: LayerNorm, InstanceNorm and their generalization GroupNorm are all privacy-safe since they don't have this property.We offer utilities to automatically replace BatchNorms to GroupNorms and we will release pretrained models to help transition, such as GN-ResNet ie a ResNet using GroupNorm, pretrained on ImageNet\"),\n",
              " opacus.validators.errors.ShouldReplaceModuleError(\"BatchNorm cannot support training with differential privacy. The reason for it is that BatchNorm makes each sample's normalized value depend on its peers in a batch, ie the same sample x will get normalized to a different value depending on who else is on its batch. Privacy-wise, this means that we would have to put a privacy mechanism there too. While it can in principle be done, there are now multiple normalization layers that do not have this issue: LayerNorm, InstanceNorm and their generalization GroupNorm are all privacy-safe since they don't have this property.We offer utilities to automatically replace BatchNorms to GroupNorms and we will release pretrained models to help transition, such as GN-ResNet ie a ResNet using GroupNorm, pretrained on ImageNet\"),\n",
              " opacus.validators.errors.ShouldReplaceModuleError(\"BatchNorm cannot support training with differential privacy. The reason for it is that BatchNorm makes each sample's normalized value depend on its peers in a batch, ie the same sample x will get normalized to a different value depending on who else is on its batch. Privacy-wise, this means that we would have to put a privacy mechanism there too. While it can in principle be done, there are now multiple normalization layers that do not have this issue: LayerNorm, InstanceNorm and their generalization GroupNorm are all privacy-safe since they don't have this property.We offer utilities to automatically replace BatchNorms to GroupNorms and we will release pretrained models to help transition, such as GN-ResNet ie a ResNet using GroupNorm, pretrained on ImageNet\")]"
            ]
          },
          "metadata": {},
          "execution_count": 7
        }
      ],
      "source": [
        "# if opacus is not installed, it can be installed by specifying a command line statement: \n",
        "!pip3 install opacus\n",
        "\n",
        "from opacus.validators import ModuleValidator\n",
        "\n",
        "errors = ModuleValidator.validate(model, strict=False)\n",
        "errors[-5:]"
      ]
    },
    {
      "cell_type": "markdown",
      "id": "b8d9ccd0-da7f-46ce-9117-9451a4b0772a",
      "metadata": {
        "id": "b8d9ccd0-da7f-46ce-9117-9451a4b0772a"
      },
      "source": [
        "We can remove incompatible layers using ModuleValidator.fix()"
      ]
    },
    {
      "cell_type": "code",
      "execution_count": 8,
      "id": "2b024fd6-c97c-4533-9de0-a1173394dcce",
      "metadata": {
        "execution": {
          "iopub.execute_input": "2022-02-16T16:55:00.846215Z",
          "iopub.status.busy": "2022-02-16T16:55:00.845861Z",
          "iopub.status.idle": "2022-02-16T16:55:00.938039Z",
          "shell.execute_reply": "2022-02-16T16:55:00.937383Z",
          "shell.execute_reply.started": "2022-02-16T16:55:00.846175Z"
        },
        "tags": [],
        "colab": {
          "base_uri": "https://localhost:8080/"
        },
        "id": "2b024fd6-c97c-4533-9de0-a1173394dcce",
        "outputId": "6ba590f6-c839-4203-9dec-8e50ec0fd1b1"
      },
      "outputs": [
        {
          "output_type": "execute_result",
          "data": {
            "text/plain": [
              "[]"
            ]
          },
          "metadata": {},
          "execution_count": 8
        }
      ],
      "source": [
        "model = ModuleValidator.fix(model)\n",
        "ModuleValidator.validate(model,strict=False)"
      ]
    },
    {
      "cell_type": "markdown",
      "id": "8a0c24fd-e818-4b47-be40-1e3563c904f6",
      "metadata": {
        "id": "8a0c24fd-e818-4b47-be40-1e3563c904f6"
      },
      "source": [
        "## Utilizing GPUs\n",
        "\n",
        "SaturnCloud supports GPUs, so we can specify our device to be CUDA-compatible.\n",
        "\n"
      ]
    },
    {
      "cell_type": "code",
      "execution_count": 9,
      "id": "d85db122-1b2c-4a82-9605-18f12970c41d",
      "metadata": {
        "execution": {
          "iopub.execute_input": "2022-02-16T16:55:03.181500Z",
          "iopub.status.busy": "2022-02-16T16:55:03.181201Z",
          "iopub.status.idle": "2022-02-16T16:55:06.303637Z",
          "shell.execute_reply": "2022-02-16T16:55:06.303051Z",
          "shell.execute_reply.started": "2022-02-16T16:55:03.181474Z"
        },
        "tags": [],
        "id": "d85db122-1b2c-4a82-9605-18f12970c41d"
      },
      "outputs": [],
      "source": [
        "device = torch.device(\"cuda\" if torch.cuda.is_available() else \"cpu\")\n",
        "\n",
        "model = model.to(device)\n"
      ]
    },
    {
      "cell_type": "markdown",
      "id": "36755080-ce56-4acb-9d2a-5417f7267095",
      "metadata": {
        "id": "36755080-ce56-4acb-9d2a-5417f7267095"
      },
      "source": [
        "## Optimization Method & Loss Criterion\n",
        "\n",
        "We can specify our loss criterion (Cross Entropy Loss) and our optimization method (RMSprop):"
      ]
    },
    {
      "cell_type": "code",
      "execution_count": 10,
      "id": "e368e841-18d1-4557-b43c-a942f47f735d",
      "metadata": {
        "execution": {
          "iopub.execute_input": "2022-02-16T16:55:08.150789Z",
          "iopub.status.busy": "2022-02-16T16:55:08.150489Z",
          "iopub.status.idle": "2022-02-16T16:55:08.155796Z",
          "shell.execute_reply": "2022-02-16T16:55:08.154879Z",
          "shell.execute_reply.started": "2022-02-16T16:55:08.150763Z"
        },
        "tags": [],
        "id": "e368e841-18d1-4557-b43c-a942f47f735d"
      },
      "outputs": [],
      "source": [
        "import torch.nn as nn\n",
        "import torch.optim as optim\n",
        "\n",
        "criterion = nn.CrossEntropyLoss()\n",
        "optimizer = optim.RMSprop(model.parameters(), lr=STEP_SIZE)"
      ]
    },
    {
      "cell_type": "markdown",
      "id": "71d07499-d7dc-43e3-a4d1-5352a2b57836",
      "metadata": {
        "id": "71d07499-d7dc-43e3-a4d1-5352a2b57836"
      },
      "source": [
        "## Privacy Engine\n",
        "\n",
        "We now take our privacy-specific hyper-parameters and attach them to the privacy engine provided by Opacus."
      ]
    },
    {
      "cell_type": "code",
      "execution_count": 11,
      "id": "d1fde2d0-d2db-4bd7-961a-16e90fbfddee",
      "metadata": {
        "execution": {
          "iopub.execute_input": "2022-02-16T16:55:10.894654Z",
          "iopub.status.busy": "2022-02-16T16:55:10.894357Z",
          "iopub.status.idle": "2022-02-16T16:55:11.651154Z",
          "shell.execute_reply": "2022-02-16T16:55:11.650394Z",
          "shell.execute_reply.started": "2022-02-16T16:55:10.894628Z"
        },
        "tags": [],
        "colab": {
          "base_uri": "https://localhost:8080/"
        },
        "id": "d1fde2d0-d2db-4bd7-961a-16e90fbfddee",
        "outputId": "b2b7cfc1-4d42-4d05-87fb-9b28d3a747e7"
      },
      "outputs": [
        {
          "output_type": "stream",
          "name": "stdout",
          "text": [
            "Using sigma=0.6249267578125 and C=1.2\n"
          ]
        }
      ],
      "source": [
        "from opacus import PrivacyEngine\n",
        "\n",
        "privacy_engine = PrivacyEngine()\n",
        "\n",
        "model, optimizer, train_loader = privacy_engine.make_private_with_epsilon(\n",
        "    module=model,\n",
        "    optimizer=optimizer,\n",
        "    data_loader=train_loader,\n",
        "    epochs=EPOCHS,\n",
        "    target_epsilon=EPSILON,\n",
        "    target_delta=DELTA,\n",
        "    max_grad_norm=CLIPPING_THRESHOLD,\n",
        ")\n",
        "\n",
        "print(f\"Using sigma={optimizer.noise_multiplier} and C={CLIPPING_THRESHOLD}\")"
      ]
    },
    {
      "cell_type": "markdown",
      "id": "24c1f42b-b6db-4ae8-beb4-197e59b15938",
      "metadata": {
        "id": "24c1f42b-b6db-4ae8-beb4-197e59b15938"
      },
      "source": [
        "## Accuracy Calculator\n",
        "\n",
        "This method will measure the accuracy of our model (training $ testing)."
      ]
    },
    {
      "cell_type": "code",
      "execution_count": 12,
      "id": "fc3b6ce7-b8c5-4d6c-88d2-b538955dfe5c",
      "metadata": {
        "execution": {
          "iopub.execute_input": "2022-02-16T16:55:16.245230Z",
          "iopub.status.busy": "2022-02-16T16:55:16.244623Z",
          "iopub.status.idle": "2022-02-16T16:55:16.248237Z",
          "shell.execute_reply": "2022-02-16T16:55:16.247672Z",
          "shell.execute_reply.started": "2022-02-16T16:55:16.245193Z"
        },
        "tags": [],
        "id": "fc3b6ce7-b8c5-4d6c-88d2-b538955dfe5c"
      },
      "outputs": [],
      "source": [
        "def accuracy(preds, labels):\n",
        "    return (preds == labels).mean()"
      ]
    },
    {
      "cell_type": "markdown",
      "id": "ca381c4c-85aa-4c96-af9f-00b9f4ed5a84",
      "metadata": {
        "id": "ca381c4c-85aa-4c96-af9f-00b9f4ed5a84"
      },
      "source": [
        "## Training Function\n",
        "\n",
        "This function trains the model for one epoch."
      ]
    },
    {
      "cell_type": "code",
      "execution_count": 13,
      "id": "33abdb8d-f735-47d4-8f94-247f8e943524",
      "metadata": {
        "execution": {
          "iopub.execute_input": "2022-02-16T16:55:18.745498Z",
          "iopub.status.busy": "2022-02-16T16:55:18.745113Z",
          "iopub.status.idle": "2022-02-16T16:55:18.757598Z",
          "shell.execute_reply": "2022-02-16T16:55:18.757054Z",
          "shell.execute_reply.started": "2022-02-16T16:55:18.745456Z"
        },
        "tags": [],
        "id": "33abdb8d-f735-47d4-8f94-247f8e943524"
      },
      "outputs": [],
      "source": [
        "from numpy.lib.function_base import append\n",
        "import numpy as np\n",
        "from opacus.utils.batch_memory_manager import BatchMemoryManager\n",
        "\n",
        "\n",
        "def train(model, train_loader, optimizer, epoch, device):\n",
        "    model.train()\n",
        "    criterion = nn.CrossEntropyLoss()\n",
        "\n",
        "    losses = []\n",
        "    top1_acc = []\n",
        "    passed = []\n",
        "    \n",
        "    with BatchMemoryManager(\n",
        "        data_loader=train_loader, \n",
        "        max_physical_batch_size=MAX_PHYSICAL_BATCH_SIZE, \n",
        "        optimizer=optimizer\n",
        "    ) as memory_safe_data_loader:\n",
        "\n",
        "        for i, (images, target) in enumerate(memory_safe_data_loader):   \n",
        "            \n",
        "            optimizer.zero_grad()\n",
        "            images = images.to(device)\n",
        "            target = target.to(device)\n",
        "\n",
        "            # compute output\n",
        "            output = model(images)\n",
        "            loss = criterion(output, target)\n",
        "\n",
        "            preds = np.argmax(output.detach().cpu().numpy(), axis=1)\n",
        "            labels = target.detach().cpu().numpy()\n",
        "\n",
        "            # measure accuracy and record loss\n",
        "            acc = accuracy(preds, labels)\n",
        "\n",
        "            losses.append(loss.item())\n",
        "            top1_acc.append(acc)\n",
        "\n",
        "            loss.backward()\n",
        "            optimizer.step()\n",
        "\n",
        "            if (i+1) % 200 == 0 and epoch not in passed:\n",
        "                epsilon = privacy_engine.get_epsilon(DELTA)\n",
        "                passed.append(epoch)\n",
        "                print(\n",
        "                    f\"\\tTrain Epoch: {epoch} \\t\"\n",
        "                    f\"Loss: {np.mean(losses):.6f} \"\n",
        "                    f\"Acc@1: {np.mean(top1_acc) * 100:.6f} \"\n",
        "                    f\"(ε = {epsilon:.2f}, δ = {DELTA})\"\n",
        "                )"
      ]
    },
    {
      "cell_type": "markdown",
      "id": "5be3fb56-ee4b-48ad-bf2f-a81870046b33",
      "metadata": {
        "id": "5be3fb56-ee4b-48ad-bf2f-a81870046b33"
      },
      "source": [
        "## Test Function\n",
        "\n",
        "Our test function will validate our model on the 10k large test dataset."
      ]
    },
    {
      "cell_type": "code",
      "execution_count": 14,
      "id": "25998cf7-7621-4668-9341-87ac0ec32a9d",
      "metadata": {
        "execution": {
          "iopub.execute_input": "2022-02-16T16:55:22.274226Z",
          "iopub.status.busy": "2022-02-16T16:55:22.273614Z",
          "iopub.status.idle": "2022-02-16T16:55:22.279552Z",
          "shell.execute_reply": "2022-02-16T16:55:22.278926Z",
          "shell.execute_reply.started": "2022-02-16T16:55:22.274196Z"
        },
        "tags": [],
        "id": "25998cf7-7621-4668-9341-87ac0ec32a9d"
      },
      "outputs": [],
      "source": [
        "def test(model, test_loader, device):\n",
        "    model.eval()\n",
        "    criterion = nn.CrossEntropyLoss()\n",
        "    losses = []\n",
        "    top1_acc = []\n",
        "\n",
        "    with torch.no_grad():\n",
        "        for images, target in test_loader:\n",
        "            images = images.to(device)\n",
        "            target = target.to(device)\n",
        "\n",
        "            output = model(images)\n",
        "            loss = criterion(output, target)\n",
        "            preds = np.argmax(output.detach().cpu().numpy(), axis=1)\n",
        "            labels = target.detach().cpu().numpy()\n",
        "            acc = accuracy(preds, labels)\n",
        "\n",
        "            losses.append(loss.item())\n",
        "            top1_acc.append(acc)\n",
        "\n",
        "    top1_avg = np.mean(top1_acc)\n",
        "\n",
        "    print(\n",
        "        f\"\\tTest set:\"\n",
        "        f\"Loss: {np.mean(losses):.6f} \"\n",
        "        f\"Acc: {top1_avg * 100:.6f} \"\n",
        "    )\n",
        "    return np.mean(top1_acc)"
      ]
    },
    {
      "cell_type": "markdown",
      "id": "082c26e1-285c-46f3-847c-304c3ae81212",
      "metadata": {
        "id": "082c26e1-285c-46f3-847c-304c3ae81212"
      },
      "source": [
        "## Train the ResNet\n",
        "\n",
        "This method trains the ResNet model on the 50k training images using our RMSprop optimizer."
      ]
    },
    {
      "cell_type": "code",
      "execution_count": null,
      "id": "61a91bce-9388-4774-80d3-3b50459b6a25",
      "metadata": {
        "execution": {
          "iopub.execute_input": "2022-02-16T16:55:26.173962Z",
          "iopub.status.busy": "2022-02-16T16:55:26.173652Z",
          "iopub.status.idle": "2022-02-16T17:18:33.743707Z",
          "shell.execute_reply": "2022-02-16T17:18:33.743025Z",
          "shell.execute_reply.started": "2022-02-16T16:55:26.173938Z"
        },
        "tags": [],
        "colab": {
          "referenced_widgets": [
            "08909a53541f423e8191b0f5d51a1da6"
          ]
        },
        "id": "61a91bce-9388-4774-80d3-3b50459b6a25",
        "outputId": "1db00fd2-8e4c-4286-9b7d-7a430b06c940"
      },
      "outputs": [
        {
          "data": {
            "application/vnd.jupyter.widget-view+json": {
              "model_id": "08909a53541f423e8191b0f5d51a1da6",
              "version_major": 2,
              "version_minor": 0
            },
            "text/plain": [
              "Epoch:   0%|          | 0/20 [00:00<?, ?epoch/s]"
            ]
          },
          "metadata": {},
          "output_type": "display_data"
        },
        {
          "name": "stdout",
          "output_type": "stream",
          "text": [
            "\tTrain Epoch: 1 \tLoss: 2.623895 Acc@1: 16.575254 (ε = 3.86, δ = 1e-05)\n",
            "\tTrain Epoch: 2 \tLoss: 1.756260 Acc@1: 38.197733 (ε = 4.65, δ = 1e-05)\n",
            "\tTrain Epoch: 3 \tLoss: 1.718924 Acc@1: 43.967947 (ε = 5.17, δ = 1e-05)\n",
            "\tTrain Epoch: 4 \tLoss: 1.715446 Acc@1: 46.374967 (ε = 5.61, δ = 1e-05)\n",
            "\tTrain Epoch: 5 \tLoss: 1.712425 Acc@1: 48.704685 (ε = 5.99, δ = 1e-05)\n",
            "\tTrain Epoch: 6 \tLoss: 1.700526 Acc@1: 50.244815 (ε = 6.35, δ = 1e-05)\n",
            "\tTrain Epoch: 7 \tLoss: 1.728286 Acc@1: 50.629706 (ε = 6.67, δ = 1e-05)\n",
            "\tTrain Epoch: 8 \tLoss: 1.681021 Acc@1: 52.934605 (ε = 6.99, δ = 1e-05)\n",
            "\tTrain Epoch: 9 \tLoss: 1.686935 Acc@1: 53.318167 (ε = 7.28, δ = 1e-05)\n",
            "\tTrain Epoch: 10 \tLoss: 1.700559 Acc@1: 53.395482 (ε = 7.56, δ = 1e-05)\n",
            "\tTrain Epoch: 11 \tLoss: 1.680947 Acc@1: 54.309624 (ε = 7.83, δ = 1e-05)\n",
            "\tTrain Epoch: 12 \tLoss: 1.709707 Acc@1: 54.660555 (ε = 8.09, δ = 1e-05)\n",
            "\tTrain Epoch: 13 \tLoss: 1.658979 Acc@1: 55.813932 (ε = 8.35, δ = 1e-05)\n",
            "\tTrain Epoch: 14 \tLoss: 1.660034 Acc@1: 56.476357 (ε = 8.59, δ = 1e-05)\n",
            "\tTrain Epoch: 15 \tLoss: 1.673066 Acc@1: 56.675314 (ε = 8.83, δ = 1e-05)\n",
            "\tTrain Epoch: 16 \tLoss: 1.638475 Acc@1: 57.287518 (ε = 9.07, δ = 1e-05)\n",
            "\tTrain Epoch: 17 \tLoss: 1.680537 Acc@1: 57.358400 (ε = 9.30, δ = 1e-05)\n",
            "\tTrain Epoch: 18 \tLoss: 1.651752 Acc@1: 58.699515 (ε = 9.51, δ = 1e-05)\n",
            "\tTrain Epoch: 19 \tLoss: 1.655935 Acc@1: 58.181178 (ε = 9.73, δ = 1e-05)\n",
            "\tTrain Epoch: 20 \tLoss: 1.650721 Acc@1: 58.350682 (ε = 9.95, δ = 1e-05)\n"
          ]
        }
      ],
      "source": [
        "from tqdm.notebook import tqdm\n",
        "\n",
        "for epoch in tqdm(range(EPOCHS), desc=\"Epoch\", unit=\"epoch\"):\n",
        "    train(model, train_loader, optimizer, epoch + 1, device)\n",
        "\n"
      ]
    },
    {
      "cell_type": "markdown",
      "id": "2c704ec5-9a7e-4021-85a8-ca107b32c1d8",
      "metadata": {
        "id": "2c704ec5-9a7e-4021-85a8-ca107b32c1d8"
      },
      "source": [
        "## Test the ResNet on Test Data\n",
        "Now we test the trained model on the 10k testing images."
      ]
    },
    {
      "cell_type": "code",
      "execution_count": null,
      "id": "3b1d41a1-4ba9-48a7-9de4-da28647c30d6",
      "metadata": {
        "execution": {
          "iopub.execute_input": "2022-02-16T17:18:41.290788Z",
          "iopub.status.busy": "2022-02-16T17:18:41.290494Z",
          "iopub.status.idle": "2022-02-16T17:18:43.393787Z",
          "shell.execute_reply": "2022-02-16T17:18:43.393115Z",
          "shell.execute_reply.started": "2022-02-16T17:18:41.290764Z"
        },
        "tags": [],
        "id": "3b1d41a1-4ba9-48a7-9de4-da28647c30d6",
        "outputId": "e4fdc6cd-09ec-4e46-96a9-2469170c26da"
      },
      "outputs": [
        {
          "name": "stdout",
          "output_type": "stream",
          "text": [
            "\tTest set:Loss: 1.775980 Acc: 55.926585 \n"
          ]
        }
      ],
      "source": [
        "top1_acc = test(model, test_loader, device)"
      ]
    },
    {
      "cell_type": "markdown",
      "id": "7495265d-35fa-47bd-bdce-887e890e95f1",
      "metadata": {
        "id": "7495265d-35fa-47bd-bdce-887e890e95f1"
      },
      "source": [
        "## References\n",
        "*   Yu, D., Zhang, H., Chen, W., Yin, J., & Liu, T.-Y. (2021). How Does Data Augmentation Affect Privacy in Machine Learning? arXiv [cs.LG]. Opgehaal van http://arxiv.org/abs/2007.10567\n",
        "*   He, K., Zhang, X., Ren, S., & Sun, J. (2015). Deep Residual Learning for Image Recognition. arXiv [cs.CV]. Opgehaal van http://arxiv.org/abs/1512.03385\n",
        "\n"
      ]
    }
  ],
  "metadata": {
    "kernelspec": {
      "display_name": "saturn (Python 3)",
      "language": "python",
      "name": "python3"
    },
    "language_info": {
      "codemirror_mode": {
        "name": "ipython",
        "version": 3
      },
      "file_extension": ".py",
      "mimetype": "text/x-python",
      "name": "python",
      "nbconvert_exporter": "python",
      "pygments_lexer": "ipython3",
      "version": "3.9.7"
    },
    "colab": {
      "name": "dp-image-classification-resnet.ipynb",
      "provenance": []
    },
    "widgets": {
      "application/vnd.jupyter.widget-state+json": {
        "c29205924d5e456d8a126cecce9d4f0d": {
          "model_module": "@jupyter-widgets/controls",
          "model_name": "HBoxModel",
          "model_module_version": "1.5.0",
          "state": {
            "_view_name": "HBoxView",
            "_dom_classes": [],
            "_model_name": "HBoxModel",
            "_view_module": "@jupyter-widgets/controls",
            "_model_module_version": "1.5.0",
            "_view_count": null,
            "_view_module_version": "1.5.0",
            "box_style": "",
            "layout": "IPY_MODEL_af6880a15ac74171a0959efd036a6289",
            "_model_module": "@jupyter-widgets/controls",
            "children": [
              "IPY_MODEL_258df64afbcb4073a2c4904e953d9912",
              "IPY_MODEL_148290a491c14d68a3782bd1db07b017",
              "IPY_MODEL_9e71cd0464c94b929feedd30b485634b"
            ]
          }
        },
        "af6880a15ac74171a0959efd036a6289": {
          "model_module": "@jupyter-widgets/base",
          "model_name": "LayoutModel",
          "model_module_version": "1.2.0",
          "state": {
            "_view_name": "LayoutView",
            "grid_template_rows": null,
            "right": null,
            "justify_content": null,
            "_view_module": "@jupyter-widgets/base",
            "overflow": null,
            "_model_module_version": "1.2.0",
            "_view_count": null,
            "flex_flow": null,
            "width": null,
            "min_width": null,
            "border": null,
            "align_items": null,
            "bottom": null,
            "_model_module": "@jupyter-widgets/base",
            "top": null,
            "grid_column": null,
            "overflow_y": null,
            "overflow_x": null,
            "grid_auto_flow": null,
            "grid_area": null,
            "grid_template_columns": null,
            "flex": null,
            "_model_name": "LayoutModel",
            "justify_items": null,
            "grid_row": null,
            "max_height": null,
            "align_content": null,
            "visibility": null,
            "align_self": null,
            "height": null,
            "min_height": null,
            "padding": null,
            "grid_auto_rows": null,
            "grid_gap": null,
            "max_width": null,
            "order": null,
            "_view_module_version": "1.2.0",
            "grid_template_areas": null,
            "object_position": null,
            "object_fit": null,
            "grid_auto_columns": null,
            "margin": null,
            "display": null,
            "left": null
          }
        },
        "258df64afbcb4073a2c4904e953d9912": {
          "model_module": "@jupyter-widgets/controls",
          "model_name": "HTMLModel",
          "model_module_version": "1.5.0",
          "state": {
            "_view_name": "HTMLView",
            "style": "IPY_MODEL_c88ef084850543ff9025e1e3d1d97d59",
            "_dom_classes": [],
            "description": "",
            "_model_name": "HTMLModel",
            "placeholder": "​",
            "_view_module": "@jupyter-widgets/controls",
            "_model_module_version": "1.5.0",
            "value": "",
            "_view_count": null,
            "_view_module_version": "1.5.0",
            "description_tooltip": null,
            "_model_module": "@jupyter-widgets/controls",
            "layout": "IPY_MODEL_175ee085cbdc4facb6a72cec11404e64"
          }
        },
        "148290a491c14d68a3782bd1db07b017": {
          "model_module": "@jupyter-widgets/controls",
          "model_name": "FloatProgressModel",
          "model_module_version": "1.5.0",
          "state": {
            "_view_name": "ProgressView",
            "style": "IPY_MODEL_7c4df80277624dfba1ea2a21f57b7534",
            "_dom_classes": [],
            "description": "",
            "_model_name": "FloatProgressModel",
            "bar_style": "success",
            "max": 170498071,
            "_view_module": "@jupyter-widgets/controls",
            "_model_module_version": "1.5.0",
            "value": 170498071,
            "_view_count": null,
            "_view_module_version": "1.5.0",
            "orientation": "horizontal",
            "min": 0,
            "description_tooltip": null,
            "_model_module": "@jupyter-widgets/controls",
            "layout": "IPY_MODEL_e9e11f9558cb4e6f86b87c6ce4eed50d"
          }
        },
        "9e71cd0464c94b929feedd30b485634b": {
          "model_module": "@jupyter-widgets/controls",
          "model_name": "HTMLModel",
          "model_module_version": "1.5.0",
          "state": {
            "_view_name": "HTMLView",
            "style": "IPY_MODEL_2677b4ebec2f47b585e3ec0cb23c54a3",
            "_dom_classes": [],
            "description": "",
            "_model_name": "HTMLModel",
            "placeholder": "​",
            "_view_module": "@jupyter-widgets/controls",
            "_model_module_version": "1.5.0",
            "value": " 170499072/? [00:03&lt;00:00, 50037926.05it/s]",
            "_view_count": null,
            "_view_module_version": "1.5.0",
            "description_tooltip": null,
            "_model_module": "@jupyter-widgets/controls",
            "layout": "IPY_MODEL_54bd11e4d37b4f7c97c382e01f499655"
          }
        },
        "c88ef084850543ff9025e1e3d1d97d59": {
          "model_module": "@jupyter-widgets/controls",
          "model_name": "DescriptionStyleModel",
          "model_module_version": "1.5.0",
          "state": {
            "_view_name": "StyleView",
            "_model_name": "DescriptionStyleModel",
            "description_width": "",
            "_view_module": "@jupyter-widgets/base",
            "_model_module_version": "1.5.0",
            "_view_count": null,
            "_view_module_version": "1.2.0",
            "_model_module": "@jupyter-widgets/controls"
          }
        },
        "175ee085cbdc4facb6a72cec11404e64": {
          "model_module": "@jupyter-widgets/base",
          "model_name": "LayoutModel",
          "model_module_version": "1.2.0",
          "state": {
            "_view_name": "LayoutView",
            "grid_template_rows": null,
            "right": null,
            "justify_content": null,
            "_view_module": "@jupyter-widgets/base",
            "overflow": null,
            "_model_module_version": "1.2.0",
            "_view_count": null,
            "flex_flow": null,
            "width": null,
            "min_width": null,
            "border": null,
            "align_items": null,
            "bottom": null,
            "_model_module": "@jupyter-widgets/base",
            "top": null,
            "grid_column": null,
            "overflow_y": null,
            "overflow_x": null,
            "grid_auto_flow": null,
            "grid_area": null,
            "grid_template_columns": null,
            "flex": null,
            "_model_name": "LayoutModel",
            "justify_items": null,
            "grid_row": null,
            "max_height": null,
            "align_content": null,
            "visibility": null,
            "align_self": null,
            "height": null,
            "min_height": null,
            "padding": null,
            "grid_auto_rows": null,
            "grid_gap": null,
            "max_width": null,
            "order": null,
            "_view_module_version": "1.2.0",
            "grid_template_areas": null,
            "object_position": null,
            "object_fit": null,
            "grid_auto_columns": null,
            "margin": null,
            "display": null,
            "left": null
          }
        },
        "7c4df80277624dfba1ea2a21f57b7534": {
          "model_module": "@jupyter-widgets/controls",
          "model_name": "ProgressStyleModel",
          "model_module_version": "1.5.0",
          "state": {
            "_view_name": "StyleView",
            "_model_name": "ProgressStyleModel",
            "description_width": "",
            "_view_module": "@jupyter-widgets/base",
            "_model_module_version": "1.5.0",
            "_view_count": null,
            "_view_module_version": "1.2.0",
            "bar_color": null,
            "_model_module": "@jupyter-widgets/controls"
          }
        },
        "e9e11f9558cb4e6f86b87c6ce4eed50d": {
          "model_module": "@jupyter-widgets/base",
          "model_name": "LayoutModel",
          "model_module_version": "1.2.0",
          "state": {
            "_view_name": "LayoutView",
            "grid_template_rows": null,
            "right": null,
            "justify_content": null,
            "_view_module": "@jupyter-widgets/base",
            "overflow": null,
            "_model_module_version": "1.2.0",
            "_view_count": null,
            "flex_flow": null,
            "width": null,
            "min_width": null,
            "border": null,
            "align_items": null,
            "bottom": null,
            "_model_module": "@jupyter-widgets/base",
            "top": null,
            "grid_column": null,
            "overflow_y": null,
            "overflow_x": null,
            "grid_auto_flow": null,
            "grid_area": null,
            "grid_template_columns": null,
            "flex": null,
            "_model_name": "LayoutModel",
            "justify_items": null,
            "grid_row": null,
            "max_height": null,
            "align_content": null,
            "visibility": null,
            "align_self": null,
            "height": null,
            "min_height": null,
            "padding": null,
            "grid_auto_rows": null,
            "grid_gap": null,
            "max_width": null,
            "order": null,
            "_view_module_version": "1.2.0",
            "grid_template_areas": null,
            "object_position": null,
            "object_fit": null,
            "grid_auto_columns": null,
            "margin": null,
            "display": null,
            "left": null
          }
        },
        "2677b4ebec2f47b585e3ec0cb23c54a3": {
          "model_module": "@jupyter-widgets/controls",
          "model_name": "DescriptionStyleModel",
          "model_module_version": "1.5.0",
          "state": {
            "_view_name": "StyleView",
            "_model_name": "DescriptionStyleModel",
            "description_width": "",
            "_view_module": "@jupyter-widgets/base",
            "_model_module_version": "1.5.0",
            "_view_count": null,
            "_view_module_version": "1.2.0",
            "_model_module": "@jupyter-widgets/controls"
          }
        },
        "54bd11e4d37b4f7c97c382e01f499655": {
          "model_module": "@jupyter-widgets/base",
          "model_name": "LayoutModel",
          "model_module_version": "1.2.0",
          "state": {
            "_view_name": "LayoutView",
            "grid_template_rows": null,
            "right": null,
            "justify_content": null,
            "_view_module": "@jupyter-widgets/base",
            "overflow": null,
            "_model_module_version": "1.2.0",
            "_view_count": null,
            "flex_flow": null,
            "width": null,
            "min_width": null,
            "border": null,
            "align_items": null,
            "bottom": null,
            "_model_module": "@jupyter-widgets/base",
            "top": null,
            "grid_column": null,
            "overflow_y": null,
            "overflow_x": null,
            "grid_auto_flow": null,
            "grid_area": null,
            "grid_template_columns": null,
            "flex": null,
            "_model_name": "LayoutModel",
            "justify_items": null,
            "grid_row": null,
            "max_height": null,
            "align_content": null,
            "visibility": null,
            "align_self": null,
            "height": null,
            "min_height": null,
            "padding": null,
            "grid_auto_rows": null,
            "grid_gap": null,
            "max_width": null,
            "order": null,
            "_view_module_version": "1.2.0",
            "grid_template_areas": null,
            "object_position": null,
            "object_fit": null,
            "grid_auto_columns": null,
            "margin": null,
            "display": null,
            "left": null
          }
        }
      }
    }
  },
  "nbformat": 4,
  "nbformat_minor": 5
}